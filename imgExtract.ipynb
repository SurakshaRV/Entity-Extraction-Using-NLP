{
 "cells": [
  {
   "cell_type": "code",
   "execution_count": 2,
   "metadata": {},
   "outputs": [],
   "source": [
    "from pdfminer.pdfparser import PDFParser\n",
    "from pdfminer.pdfdocument import PDFDocument\n",
    "from pdfminer.pdfpage import PDFPage\n",
    "from pdfminer.pdfpage import PDFTextExtractionNotAllowed\n",
    "from pdfminer.pdfinterp import PDFResourceManager\n",
    "from pdfminer.pdfinterp import PDFPageInterpreter\n",
    "from pdfminer.pdfdevice import PDFDevice\n",
    "# from pdfminer.layout import LAParams\n",
    "from pdfminer.layout import LAParams, LTTextBox, LTTextLine, LTFigure, LTImage, LTChar\n",
    "from pdfminer.converter import PDFPageAggregator\n",
    "\n",
    "import os,sys,io\n",
    "from PIL import Image\n"
   ]
  },
  {
   "cell_type": "code",
   "execution_count": null,
   "metadata": {},
   "outputs": [],
   "source": [
    "# Set parameters for analysis.\n",
    "laparams = LAParams()\n",
    "\n",
    "rsrcmgr = PDFResourceManager()\n",
    "\n",
    "# Create a PDF page aggregator object.\n",
    "device = PDFPageAggregator(rsrcmgr, laparams=laparams)\n",
    "interpreter = PDFPageInterpreter(rsrcmgr, device)\n",
    "\n",
    "\n",
    "# Open a PDF file.\n",
    "fp = open(\"C:\\\\Users\\\\user\\\\Desktop\\\\Print - Application.pdf\",'rb')\n",
    "\n",
    "# Create a PDF parser object associated with the file object.\n",
    "parser = PDFParser(fp)\n",
    "# Create a PDF document object that stores the document structure.\n",
    "# Supply the password for initialization.\n",
    "document = PDFDocument(parser)\n",
    "\n",
    "for p, page in enumerate(PDFPage.create_pages(document)):\n",
    "    interpreter.process_page(page)\n",
    "    # receive the LTPage object for the page.\n",
    "    layout = device.get_result()\n",
    "\n",
    "    for node in layout:\n",
    "        # print(type(node))\n",
    "\n",
    "        if isinstance(node,LTFigure):\n",
    "            for n in node:\n",
    "                #print(\" {}\".format(type(n)))\n",
    "\n",
    "                if n.stream:\n",
    "                    buffer = io.BytesIO(n.stream.get_data())\n",
    "                    #ltimageobject = Image.open(buffer)\n",
    "                    # with open(\"test_data_{}.img\".format(p),'wb') as fp :\n",
    "                    #    fp.write(buffer.read())\n",
    "                    im =Image.frombytes(mode=\"1\", data = n.stream.data, size = n.srcsize, decoder_name='raw') \n",
    "                    im.save(\"new_fromIm2.jpg\")\n",
    "                    #pillow_object.save(\"test_image_{}\".format(p), jpeg)"
   ]
  },
  {
   "cell_type": "code",
   "execution_count": null,
   "metadata": {},
   "outputs": [],
   "source": []
  }
 ],
 "metadata": {
  "kernelspec": {
   "display_name": "Python 3",
   "language": "python",
   "name": "python3"
  },
  "language_info": {
   "codemirror_mode": {
    "name": "ipython",
    "version": 3
   },
   "file_extension": ".py",
   "mimetype": "text/x-python",
   "name": "python",
   "nbconvert_exporter": "python",
   "pygments_lexer": "ipython3",
   "version": "3.6.8"
  }
 },
 "nbformat": 4,
 "nbformat_minor": 2
}
