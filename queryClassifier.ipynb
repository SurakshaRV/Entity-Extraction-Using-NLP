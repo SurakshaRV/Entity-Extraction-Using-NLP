{
 "cells": [
  {
   "cell_type": "code",
   "execution_count": 1,
   "metadata": {},
   "outputs": [],
   "source": [
    "from textblob.classifiers import NaiveBayesClassifier, DecisionTreeClassifier \n",
    "import textblob"
   ]
  },
  {
   "cell_type": "code",
   "execution_count": 2,
   "metadata": {},
   "outputs": [],
   "source": [
    "generic_questions = (\"Let's go\",\"You never wanted to go out with 'me, did you?\",\"Who knows?\",\"What annoys you?\",\n",
    "                     \"you've heard of him?\",\"What were you doing?\",\"Thank you anyway\",\"No problem\",\n",
    "                     'She okay?',\"Yes, I have a question.\",\"What is your question?\",\"What are your hobbies?\",\n",
    "                     \"You know how sometimes you just become this 'persona'?  And you don't know how to quit?\",\n",
    "                     \"what's up?\",'sup people? I see the weather\\'s getting better over there, Ben.',\n",
    "                     \"how are you doing?\",\"Hi\",\"Hello\",\"Hey\",\"How's you?\",\"Have you heard the news?\",\n",
    "                     'i had the same problem your having so thats my i made my own.',\"What is your favorite book?\",\n",
    "                     \"good night\",\"good morning\",\"good afternoon\",\"good evening\",\"So what's your favorite color?\",\n",
    "                     'What good stuff?',\"what's new?\",\"How's life?\",\"That is good to hear\",\n",
    "                     \"I am doing well, how about you?\",\"I am doing well, how about you?\",\"I'm also good.\",\n",
    "                     \"What are you then?\",'What are you working on?',\"Who are you?\",\"What is it like?\",\n",
    "                     \"How do you work?\",\"Who is your appointment with?\",\"What languages do you like to use?\",\n",
    "        )"
   ]
  },
  {
   "cell_type": "code",
   "execution_count": 3,
   "metadata": {},
   "outputs": [],
   "source": [
    "technical_questions=(\"Clearpass is extended to IT systems using which API?\",\n",
    "                     \"Which browsers are supported for ClearPass?\",\n",
    "                     \"Which  virtualization platforms  is supported by Clearpass?\",\n",
    "                     \"name the authentication/authorization sources used by clearpass.\",\n",
    "                     \"does Clearpass use ipv6 or ipv4 addressing?\",\n",
    "                     \"how many sessioons can  be provided by ClearPass C2000 Hardware Appliance?\",\n",
    "                     \"how does Admin/Operator access security?\",\n",
    "                     'Virtual Appliances are supported on which platforms?',\n",
    "                     \"Name the ClearPass Hardware Appliance Ports.\",\n",
    "                     \"What is the expansion of OCSP?\",\n",
    "                     \"what are the active Profiling Methods?\",\n",
    "                     \"What are cookies?\",\n",
    "                     \"what does dynamic authorisation mean?\",\n",
    "                     \"Which standard the clearpass Guest is built on?\",\n",
    "                     \"which protocol is used by the  NAS  to authenticate the user ?\",\n",
    "                     \"Which network connectivity is provisioned for Clearpass Guest?\",\n",
    "                     \"What is NAS?\",\n",
    "                     \"What are the possible states of a session?\",\n",
    "                     \"what does dynamic authorisation mean?\",\n",
    "                     'Which standard the clearpass Guest is built on?',\n",
    "                     \"Which network connectivity is provisioned for Clearpass Guest?\",\n",
    "                     \"What is the use of airgroup?\",\n",
    "                     \"What are cookies used for?\",\n",
    "                     'Is Windows Server 2008 \"Server Core\" appropriate for a SQL Server instance?',\n",
    "                     \"Is there any list of the network devices supported by clearpass for 802.1x auth\",\n",
    "                     \"How can I Block my users from installing new virtual machines\",\n",
    "                     \"Is there any list of medical devices compatible with clearpass ?\",\n",
    "                     \"what are Good branching and merging tutorials for TortoiseSVN?\",\n",
    "                     \"how to Add scripting functionality to .NET applications\",\n",
    "                     \"why is VMWare Server Under Linux Secondary NIC connection\",\n",
    "                     \"Setting up Continuous Integration with SVN\",\n",
    "                     \"Does CruiseControl.NET run on IIS 7.0?\",\n",
    "                     \"what to do  when there are users in both Edmonton and Toronto that access the same “Corpnet” Wireless LAN.\",\n",
    "                     \"what are the  three hardware appliance platforms that aruba provides?\",\n",
    "                     \"how to Powering Off the ClearPass Hardware Appliance?\",\n",
    "                     \"what are the Supported Hypervisors for clearpass?\"\n",
    "                    )"
   ]
  },
  {
   "cell_type": "code",
   "execution_count": 4,
   "metadata": {
    "scrolled": true
   },
   "outputs": [
    {
     "name": "stdout",
     "output_type": "stream",
     "text": [
      "Most Informative Features\n",
      "           contains(the) = True             tech : generi =      4.8 : 1.0\n",
      "            contains(of) = True             tech : generi =      4.3 : 1.0\n",
      "            contains(on) = True             tech : generi =      3.5 : 1.0\n",
      "             contains(I) = True           generi : tech   =      3.2 : 1.0\n",
      "         contains(there) = True             tech : generi =      2.7 : 1.0\n",
      "          contains(what) = True             tech : generi =      2.5 : 1.0\n",
      "            contains(is) = True             tech : generi =      2.4 : 1.0\n",
      "           contains(are) = True             tech : generi =      2.2 : 1.0\n",
      "           contains(How) = True           generi : tech   =      2.0 : 1.0\n",
      "            contains(do) = True           generi : tech   =      2.0 : 1.0\n",
      "None ['generic', 'tech']\n"
     ]
    }
   ],
   "source": [
    "generic_questions = [(x, 'generic') for x in generic_questions]\n",
    "technical_questions = [(x, 'tech') for x in technical_questions]\n",
    "\n",
    "training_set = []\n",
    "training_set.extend(generic_questions)\n",
    "training_set.extend(technical_questions)\n",
    "\n",
    "Qclassifier = NaiveBayesClassifier(training_set)\n",
    "print(Qclassifier.show_informative_features(), Qclassifier.labels())"
   ]
  },
  {
   "cell_type": "code",
   "execution_count": 5,
   "metadata": {},
   "outputs": [
    {
     "name": "stdout",
     "output_type": "stream",
     "text": [
      "What are cookies used for? \n",
      " tech 0.9668281057989414\n",
      "what are the Integrated and Third-Party Profiling Methods? \n",
      " tech 0.9814230885237738\n",
      "Hi. Good morning \n",
      " generic 0.993952168380169\n",
      "what does dynamic authorisation mean? \n",
      " tech 0.9893698750737544\n",
      "Howdy? \n",
      " generic 0.9883428590478528\n"
     ]
    }
   ],
   "source": [
    "test_queries=(\"What are cookies used for?\",\"what are the Integrated and Third-Party Profiling Methods?\",\"Hi. Good morning\",\"what does dynamic authorisation mean?\",\"Howdy?\")\n",
    "for t in test_queries:\n",
    "    prob_dist = Qclassifier.prob_classify(t)\n",
    "    print(t, '\\n', prob_dist.max(), prob_dist.prob(prob_dist.max()))"
   ]
  },
  {
   "cell_type": "code",
   "execution_count": null,
   "metadata": {},
   "outputs": [],
   "source": []
  }
 ],
 "metadata": {
  "kernelspec": {
   "display_name": "Python 3",
   "language": "python",
   "name": "python3"
  },
  "language_info": {
   "codemirror_mode": {
    "name": "ipython",
    "version": 3
   },
   "file_extension": ".py",
   "mimetype": "text/x-python",
   "name": "python",
   "nbconvert_exporter": "python",
   "pygments_lexer": "ipython3",
   "version": "3.6.8"
  }
 },
 "nbformat": 4,
 "nbformat_minor": 4
}
