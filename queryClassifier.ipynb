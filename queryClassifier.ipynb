{
 "cells": [
  {
   "cell_type": "code",
   "execution_count": 1,
   "metadata": {},
   "outputs": [],
   "source": [
    "from textblob.classifiers import NaiveBayesClassifier \n",
    "import textblob\n",
    "import pickle"
   ]
  },
  {
   "cell_type": "code",
   "execution_count": 31,
   "metadata": {},
   "outputs": [],
   "source": [
    "generic_questions = (\"Let's go\",\"You never wanted to go out with 'me, did you?\",\"Who knows?\",\"What annoys you?\",\"yo!\",\n",
    "                     \"you've heard of him?\",\"What were you doing?\",\"Thank you anyway\",\"No problem\",\n",
    "                     'She okay?',\"Yes, I have a question.\",\"What is your question?\",\"What are your hobbies?\",\n",
    "                     \"You know how sometimes you just become this 'persona'?  And you don't know how to quit?\",\n",
    "                     \"what's up?\",'sup people? I see the weather\\'s getting better over there, Ben.',\n",
    "                     \"how are you doing?\",\"Hi\",\"Hello\",\"Hey\",\"How's you?\",\"Have you heard the news?\",\n",
    "                     'i had the same problem your having so thats my i made my own.',\"What is your favorite book?\",\n",
    "                     \"good night\",\"good morning\",\"good afternoon\",\"good evening\",\"So what's your favorite color?\",\n",
    "                     'What good stuff?',\"what's new?\",\"How's life?\",\"That is good to hear\",\n",
    "                     \"I am doing well, how about you?\",\"I am doing well, how about you?\",\"I'm also good.\",\n",
    "                     \"What are you then?\",'What are you working on?',\"Who are you?\",\"What is it like?\",\n",
    "                     \"How do you work?\",\"Who is your appointment with?\",\"What languages do you like to use?\",\n",
    "        )"
   ]
  },
  {
   "cell_type": "code",
   "execution_count": 32,
   "metadata": {},
   "outputs": [],
   "source": [
    "technical_questions=(\"Clearpass is extended to IT systems using which API?\",\n",
    "                     \"Which browsers are supported for ClearPass?\",\n",
    "                     \"Which  virtualization platforms  is supported by Clearpass?\",\n",
    "                     \"name the authentication/authorization sources used by clearpass.\",\n",
    "                     \"does Clearpass use ipv6 or ipv4 addressing?\",\n",
    "                     \"how many sessioons can  be provided by ClearPass C2000 Hardware Appliance?\",\n",
    "                     \"how does Admin/Operator access security?\",\n",
    "                     'Virtual Appliances are supported on which platforms?',\n",
    "                     \"Name the ClearPass Hardware Appliance Ports.\",\n",
    "                     \"What is the expansion of OCSP?\",\n",
    "                     \"what are the active Profiling Methods?\",\n",
    "                     \"What are cookies?\",\n",
    "                     \"what does dynamic authorisation mean?\",\n",
    "                     \"Which standard the clearpass Guest is built on?\",\n",
    "                     \"which protocol is used by the  NAS  to authenticate the user ?\",\n",
    "                     \"Which network connectivity is provisioned for Clearpass Guest?\",\n",
    "                     \"What is NAS?\",\n",
    "                     \"What are the possible states of a session?\",\n",
    "                     \"what does dynamic authorisation mean?\",\n",
    "                     'Which standard the clearpass Guest is built on?',\n",
    "                     \"Which network connectivity is provisioned for Clearpass Guest?\",\n",
    "                     \"What is the use of airgroup?\",\n",
    "                     \"What are cookies used for?\",\n",
    "                     'Is Windows Server 2008 \"Server Core\" appropriate for a SQL Server instance?',\n",
    "                     \"Is there any list of the network devices supported by clearpass for 802.1x auth\",\n",
    "                     \"How can I Block my users from installing new virtual machines\",\n",
    "                     \"Is there any list of medical devices compatible with clearpass ?\",\n",
    "                     \"what are Good branching and merging tutorials for TortoiseSVN?\",\n",
    "                     \"how to Add scripting functionality to .NET applications\",\n",
    "                     \"why is VMWare Server Under Linux Secondary NIC connection\",\n",
    "                     \"Setting up Continuous Integration with SVN\",\n",
    "                     \"Does CruiseControl.NET run on IIS 7.0?\",\n",
    "                     \"what to do  when there are users in both Edmonton and Toronto that access the same “Corpnet” Wireless LAN.\",\n",
    "                     \"what are the  three hardware appliance platforms that aruba provides?\",\n",
    "                     \"how to Powering Off the ClearPass Hardware Appliance?\",\n",
    "                     \"what are the Supported Hypervisors for clearpass?\",\n",
    "                     \"what are the built-in AAA services used in aruba\",\n",
    "                     \"what are mobile device posture checks used in aruba\",\n",
    "                     \"how is Device and User certificate enrollment done in aruba\",\n",
    "                     'what are the APIs used in aruba',\n",
    "                     \"what are Framework and Protocol used in aruba\",\n",
    "                     \"what are Supported Identity Stores in aruba\",\n",
    "                     \"what are supported browser for aruba\",\n",
    "                     \"what are the special character that are supported in passwords of aruba\",\n",
    "                     'how is Initial Login and Activation of the ClearPass Platform License done in aruba',\n",
    "                     \"what is the default password\",\n",
    "                     \"what are graph that displays all requests\",\n",
    "                     \"what are the services that are provided by aruba\",\n",
    "                     \"what are Authentication services that are provided by aruba\",\n",
    "                     \"what are the options provided by  Posture\",\n",
    "                     'what are the elements that can be modified in  Profile and Network Scan page',\n",
    "                     'what are the List of Provided Service Templates',\n",
    "                     \"how is aruba 802.1X Wired service template designed\",\n",
    "                     \"what are the parameter that are used for Authentication Source\",\n",
    "                     \"what are the  attributes defined in the Authentication Source\",\n",
    "                     \"how is Wired Network Settings done in aruba\",\n",
    "                     \"which color indicates Risk Score Colors?\",\n",
    "                     \"what is Pagination?\",\n",
    "                     \"what are the type of the filters that are used\",\n",
    "                     \"what are the Column that are used in database?\",\n",
    "                     'what are the actions that are available in Entity360 Data',\n",
    "                     \"what are the buttons in Entity360 Card\",\n",
    "                     'what are the column that are used in  Contributing Alerts?',\n",
    "                     \"what are the Events in Time Range\",\n",
    "                     'what are the attributes in Profile Overviews',\n",
    "                     \"what are the Login Details?\",\n",
    "                     'what is Viewing Conversations Graph?',\n",
    "                     \"what are Conversations Graph Options\",\n",
    "                     \"what are Classification for  Alert \",\n",
    "                     'what are stages in attack',\n",
    "                     'what is alert360',\n",
    "                     \"what are the fields in Users Conversing with Primary IOC\",\n",
    "                     'what are columns in Audit Trail',\n",
    "                     'what are parameters in Conversations List',\n",
    "                     \"what is Conversations Cloud Apps\",\n",
    "                     \"what can be viewed in Conversations Visualizations\",\n",
    "                     \"What is the version of the technology used\",\n",
    "                     \"are there any technologies used\",\n",
    "                     \"what's the version of opencv used\",\n",
    "                     \"what's the version of python used\",\n",
    "                     \"what's the version of nltk or spacy used\",\n",
    "                     \"version of spacy?\", \"windows version?\", \"Clearpass version?\"\n",
    "                    )"
   ]
  },
  {
   "cell_type": "code",
   "execution_count": 33,
   "metadata": {
    "scrolled": true
   },
   "outputs": [
    {
     "name": "stdout",
     "output_type": "stream",
     "text": [
      "Most Informative Features\n",
      "             contains(I) = True           generi : tech   =      7.1 : 1.0\n",
      "          contains(what) = True             tech : generi =      6.7 : 1.0\n",
      "           contains(the) = True             tech : generi =      5.7 : 1.0\n",
      "            contains(of) = True             tech : generi =      5.0 : 1.0\n",
      "            contains(do) = True           generi : tech   =      4.5 : 1.0\n",
      "           contains(How) = True           generi : tech   =      4.5 : 1.0\n",
      "           contains(are) = True             tech : generi =      3.8 : 1.0\n",
      "          contains(What) = True           generi : tech   =      2.7 : 1.0\n",
      "            contains(is) = True             tech : generi =      2.0 : 1.0\n",
      "          contains(what) = False          generi : tech   =      2.0 : 1.0\n",
      "None ['generic', 'tech']\n"
     ]
    }
   ],
   "source": [
    "generic_questions = [(x, 'generic') for x in generic_questions]\n",
    "technical_questions = [(x, 'tech') for x in technical_questions]\n",
    "\n",
    "training_set = []\n",
    "training_set.extend(generic_questions)\n",
    "training_set.extend(technical_questions)\n",
    "\n",
    "Qclassifier = NaiveBayesClassifier(training_set)\n",
    "print(Qclassifier.show_informative_features(), Qclassifier.labels())"
   ]
  },
  {
   "cell_type": "code",
   "execution_count": 34,
   "metadata": {},
   "outputs": [],
   "source": [
    "save_classifier = open(\"naivebayes.pickle\",\"wb\")\n",
    "pickle.dump(Qclassifier, save_classifier)\n",
    "save_classifier.close()"
   ]
  },
  {
   "cell_type": "code",
   "execution_count": 35,
   "metadata": {},
   "outputs": [],
   "source": [
    "classifier_file=open(\"naivebayes.pickle\",\"rb\")\n",
    "Qclassifier=pickle.load(classifier_file)\n",
    "classifier_file.close()"
   ]
  },
  {
   "cell_type": "code",
   "execution_count": 38,
   "metadata": {},
   "outputs": [
    {
     "name": "stdout",
     "output_type": "stream",
     "text": [
      "Is there any technology used in this doc? \n",
      " tech 0.9991105171104316\n",
      "How's life treating you? \n",
      " generic 0.9999043542101725\n",
      "Technologies used? \n",
      " tech 0.8536408323986898\n",
      "what's the version of windows used'? \n",
      " tech 0.9999824909854051\n"
     ]
    }
   ],
   "source": [
    "test_queries=(\"Is there any technology used in this doc?\",\"How's life treating you?\",\"Technologies used?\",\"what's the version of windows used'?\")\n",
    "for t in test_queries:\n",
    "    prob_dist = Qclassifier.prob_classify(t)\n",
    "    print(t, '\\n', prob_dist.max(), prob_dist.prob(prob_dist.max()))"
   ]
  },
  {
   "cell_type": "code",
   "execution_count": null,
   "metadata": {},
   "outputs": [],
   "source": []
  }
 ],
 "metadata": {
  "kernelspec": {
   "display_name": "Python 3",
   "language": "python",
   "name": "python3"
  },
  "language_info": {
   "codemirror_mode": {
    "name": "ipython",
    "version": 3
   },
   "file_extension": ".py",
   "mimetype": "text/x-python",
   "name": "python",
   "nbconvert_exporter": "python",
   "pygments_lexer": "ipython3",
   "version": "3.6.8"
  }
 },
 "nbformat": 4,
 "nbformat_minor": 4
}
