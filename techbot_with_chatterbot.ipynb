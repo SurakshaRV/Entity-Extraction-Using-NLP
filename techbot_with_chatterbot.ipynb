{
 "cells": [
  {
   "cell_type": "code",
   "execution_count": 2,
   "metadata": {},
   "outputs": [
    {
     "ename": "ModuleNotFoundError",
     "evalue": "No module named 'pytz'",
     "output_type": "error",
     "traceback": [
      "\u001b[1;31m---------------------------------------------------------------------------\u001b[0m",
      "\u001b[1;31mModuleNotFoundError\u001b[0m                       Traceback (most recent call last)",
      "\u001b[1;32m<ipython-input-2-5d4fbe5c2bd7>\u001b[0m in \u001b[0;36m<module>\u001b[1;34m\u001b[0m\n\u001b[1;32m----> 1\u001b[1;33m \u001b[1;32mfrom\u001b[0m \u001b[0mchatterbot\u001b[0m \u001b[1;32mimport\u001b[0m \u001b[0mChatBot\u001b[0m\u001b[1;33m\u001b[0m\u001b[1;33m\u001b[0m\u001b[0m\n\u001b[0m\u001b[0;32m      2\u001b[0m \u001b[1;32mfrom\u001b[0m \u001b[0mchatterbot\u001b[0m\u001b[1;33m.\u001b[0m\u001b[0mtrainers\u001b[0m \u001b[1;32mimport\u001b[0m \u001b[0mListTrainer\u001b[0m\u001b[1;33m\u001b[0m\u001b[1;33m\u001b[0m\u001b[0m\n\u001b[0;32m      3\u001b[0m bot = ChatBot(\n\u001b[0;32m      4\u001b[0m     \u001b[1;34m'Example Bot2'\u001b[0m\u001b[1;33m,\u001b[0m\u001b[1;33m\u001b[0m\u001b[1;33m\u001b[0m\u001b[0m\n\u001b[0;32m      5\u001b[0m     \u001b[0mstorage_adapter\u001b[0m\u001b[1;33m=\u001b[0m\u001b[1;34m'chatterbot.storage.SQLStorageAdapter'\u001b[0m\u001b[1;33m,\u001b[0m\u001b[1;33m\u001b[0m\u001b[1;33m\u001b[0m\u001b[0m\n",
      "\u001b[1;32m~\\Anaconda3\\envs\\tensorflow\\lib\\site-packages\\chatterbot\\__init__.py\u001b[0m in \u001b[0;36m<module>\u001b[1;34m\u001b[0m\n\u001b[0;32m      2\u001b[0m \u001b[0mChatterBot\u001b[0m \u001b[1;32mis\u001b[0m \u001b[0ma\u001b[0m \u001b[0mmachine\u001b[0m \u001b[0mlearning\u001b[0m\u001b[1;33m,\u001b[0m \u001b[0mconversational\u001b[0m \u001b[0mdialog\u001b[0m \u001b[0mengine\u001b[0m\u001b[1;33m.\u001b[0m\u001b[1;33m\u001b[0m\u001b[1;33m\u001b[0m\u001b[0m\n\u001b[0;32m      3\u001b[0m \"\"\"\n\u001b[1;32m----> 4\u001b[1;33m \u001b[1;32mfrom\u001b[0m \u001b[1;33m.\u001b[0m\u001b[0mchatterbot\u001b[0m \u001b[1;32mimport\u001b[0m \u001b[0mChatBot\u001b[0m\u001b[1;33m\u001b[0m\u001b[1;33m\u001b[0m\u001b[0m\n\u001b[0m\u001b[0;32m      5\u001b[0m \u001b[1;33m\u001b[0m\u001b[0m\n\u001b[0;32m      6\u001b[0m \u001b[0m__version__\u001b[0m \u001b[1;33m=\u001b[0m \u001b[1;34m'1.0.5'\u001b[0m\u001b[1;33m\u001b[0m\u001b[1;33m\u001b[0m\u001b[0m\n",
      "\u001b[1;32m~\\Anaconda3\\envs\\tensorflow\\lib\\site-packages\\chatterbot\\chatterbot.py\u001b[0m in \u001b[0;36m<module>\u001b[1;34m\u001b[0m\n\u001b[0;32m      1\u001b[0m \u001b[1;32mimport\u001b[0m \u001b[0mlogging\u001b[0m\u001b[1;33m\u001b[0m\u001b[1;33m\u001b[0m\u001b[0m\n\u001b[0;32m      2\u001b[0m \u001b[1;32mfrom\u001b[0m \u001b[0mchatterbot\u001b[0m\u001b[1;33m.\u001b[0m\u001b[0mstorage\u001b[0m \u001b[1;32mimport\u001b[0m \u001b[0mStorageAdapter\u001b[0m\u001b[1;33m\u001b[0m\u001b[1;33m\u001b[0m\u001b[0m\n\u001b[1;32m----> 3\u001b[1;33m \u001b[1;32mfrom\u001b[0m \u001b[0mchatterbot\u001b[0m\u001b[1;33m.\u001b[0m\u001b[0mlogic\u001b[0m \u001b[1;32mimport\u001b[0m \u001b[0mLogicAdapter\u001b[0m\u001b[1;33m\u001b[0m\u001b[1;33m\u001b[0m\u001b[0m\n\u001b[0m\u001b[0;32m      4\u001b[0m \u001b[1;32mfrom\u001b[0m \u001b[0mchatterbot\u001b[0m\u001b[1;33m.\u001b[0m\u001b[0msearch\u001b[0m \u001b[1;32mimport\u001b[0m \u001b[0mIndexedTextSearch\u001b[0m\u001b[1;33m\u001b[0m\u001b[1;33m\u001b[0m\u001b[0m\n\u001b[0;32m      5\u001b[0m \u001b[1;32mfrom\u001b[0m \u001b[0mchatterbot\u001b[0m \u001b[1;32mimport\u001b[0m \u001b[0mutils\u001b[0m\u001b[1;33m\u001b[0m\u001b[1;33m\u001b[0m\u001b[0m\n",
      "\u001b[1;32m~\\Anaconda3\\envs\\tensorflow\\lib\\site-packages\\chatterbot\\logic\\__init__.py\u001b[0m in \u001b[0;36m<module>\u001b[1;34m\u001b[0m\n\u001b[1;32m----> 1\u001b[1;33m \u001b[1;32mfrom\u001b[0m \u001b[0mchatterbot\u001b[0m\u001b[1;33m.\u001b[0m\u001b[0mlogic\u001b[0m\u001b[1;33m.\u001b[0m\u001b[0mlogic_adapter\u001b[0m \u001b[1;32mimport\u001b[0m \u001b[0mLogicAdapter\u001b[0m\u001b[1;33m\u001b[0m\u001b[1;33m\u001b[0m\u001b[0m\n\u001b[0m\u001b[0;32m      2\u001b[0m \u001b[1;32mfrom\u001b[0m \u001b[0mchatterbot\u001b[0m\u001b[1;33m.\u001b[0m\u001b[0mlogic\u001b[0m\u001b[1;33m.\u001b[0m\u001b[0mbest_match\u001b[0m \u001b[1;32mimport\u001b[0m \u001b[0mBestMatch\u001b[0m\u001b[1;33m\u001b[0m\u001b[1;33m\u001b[0m\u001b[0m\n\u001b[0;32m      3\u001b[0m \u001b[1;32mfrom\u001b[0m \u001b[0mchatterbot\u001b[0m\u001b[1;33m.\u001b[0m\u001b[0mlogic\u001b[0m\u001b[1;33m.\u001b[0m\u001b[0mmathematical_evaluation\u001b[0m \u001b[1;32mimport\u001b[0m \u001b[0mMathematicalEvaluation\u001b[0m\u001b[1;33m\u001b[0m\u001b[1;33m\u001b[0m\u001b[0m\n\u001b[0;32m      4\u001b[0m \u001b[1;32mfrom\u001b[0m \u001b[0mchatterbot\u001b[0m\u001b[1;33m.\u001b[0m\u001b[0mlogic\u001b[0m\u001b[1;33m.\u001b[0m\u001b[0mspecific_response\u001b[0m \u001b[1;32mimport\u001b[0m \u001b[0mSpecificResponseAdapter\u001b[0m\u001b[1;33m\u001b[0m\u001b[1;33m\u001b[0m\u001b[0m\n\u001b[0;32m      5\u001b[0m \u001b[1;32mfrom\u001b[0m \u001b[0mchatterbot\u001b[0m\u001b[1;33m.\u001b[0m\u001b[0mlogic\u001b[0m\u001b[1;33m.\u001b[0m\u001b[0mtime_adapter\u001b[0m \u001b[1;32mimport\u001b[0m \u001b[0mTimeLogicAdapter\u001b[0m\u001b[1;33m\u001b[0m\u001b[1;33m\u001b[0m\u001b[0m\n",
      "\u001b[1;32m~\\Anaconda3\\envs\\tensorflow\\lib\\site-packages\\chatterbot\\logic\\logic_adapter.py\u001b[0m in \u001b[0;36m<module>\u001b[1;34m\u001b[0m\n\u001b[0;32m      1\u001b[0m \u001b[1;32mfrom\u001b[0m \u001b[0mchatterbot\u001b[0m\u001b[1;33m.\u001b[0m\u001b[0madapters\u001b[0m \u001b[1;32mimport\u001b[0m \u001b[0mAdapter\u001b[0m\u001b[1;33m\u001b[0m\u001b[1;33m\u001b[0m\u001b[0m\n\u001b[0;32m      2\u001b[0m \u001b[1;32mfrom\u001b[0m \u001b[0mchatterbot\u001b[0m\u001b[1;33m.\u001b[0m\u001b[0mstorage\u001b[0m \u001b[1;32mimport\u001b[0m \u001b[0mStorageAdapter\u001b[0m\u001b[1;33m\u001b[0m\u001b[1;33m\u001b[0m\u001b[0m\n\u001b[1;32m----> 3\u001b[1;33m \u001b[1;32mfrom\u001b[0m \u001b[0mchatterbot\u001b[0m\u001b[1;33m.\u001b[0m\u001b[0msearch\u001b[0m \u001b[1;32mimport\u001b[0m \u001b[0mIndexedTextSearch\u001b[0m\u001b[1;33m\u001b[0m\u001b[1;33m\u001b[0m\u001b[0m\n\u001b[0m\u001b[0;32m      4\u001b[0m \u001b[1;32mfrom\u001b[0m \u001b[0mchatterbot\u001b[0m\u001b[1;33m.\u001b[0m\u001b[0mconversation\u001b[0m \u001b[1;32mimport\u001b[0m \u001b[0mStatement\u001b[0m\u001b[1;33m\u001b[0m\u001b[1;33m\u001b[0m\u001b[0m\n\u001b[0;32m      5\u001b[0m \u001b[1;33m\u001b[0m\u001b[0m\n",
      "\u001b[1;32m~\\Anaconda3\\envs\\tensorflow\\lib\\site-packages\\chatterbot\\search.py\u001b[0m in \u001b[0;36m<module>\u001b[1;34m\u001b[0m\n\u001b[1;32m----> 1\u001b[1;33m \u001b[1;32mfrom\u001b[0m \u001b[0mchatterbot\u001b[0m\u001b[1;33m.\u001b[0m\u001b[0mconversation\u001b[0m \u001b[1;32mimport\u001b[0m \u001b[0mStatement\u001b[0m\u001b[1;33m\u001b[0m\u001b[1;33m\u001b[0m\u001b[0m\n\u001b[0m\u001b[0;32m      2\u001b[0m \u001b[1;33m\u001b[0m\u001b[0m\n\u001b[0;32m      3\u001b[0m \u001b[1;33m\u001b[0m\u001b[0m\n\u001b[0;32m      4\u001b[0m \u001b[1;32mclass\u001b[0m \u001b[0mIndexedTextSearch\u001b[0m\u001b[1;33m:\u001b[0m\u001b[1;33m\u001b[0m\u001b[1;33m\u001b[0m\u001b[0m\n\u001b[0;32m      5\u001b[0m     \"\"\"\n",
      "\u001b[1;32m~\\Anaconda3\\envs\\tensorflow\\lib\\site-packages\\chatterbot\\conversation.py\u001b[0m in \u001b[0;36m<module>\u001b[1;34m\u001b[0m\n\u001b[1;32m----> 1\u001b[1;33m \u001b[1;32mfrom\u001b[0m \u001b[0mpytz\u001b[0m \u001b[1;32mimport\u001b[0m \u001b[0mUTC\u001b[0m\u001b[1;33m\u001b[0m\u001b[1;33m\u001b[0m\u001b[0m\n\u001b[0m\u001b[0;32m      2\u001b[0m \u001b[1;32mfrom\u001b[0m \u001b[0mdatetime\u001b[0m \u001b[1;32mimport\u001b[0m \u001b[0mdatetime\u001b[0m\u001b[1;33m\u001b[0m\u001b[1;33m\u001b[0m\u001b[0m\n\u001b[0;32m      3\u001b[0m \u001b[1;32mfrom\u001b[0m \u001b[0mdateutil\u001b[0m \u001b[1;32mimport\u001b[0m \u001b[0mparser\u001b[0m \u001b[1;32mas\u001b[0m \u001b[0mdate_parser\u001b[0m\u001b[1;33m\u001b[0m\u001b[1;33m\u001b[0m\u001b[0m\n\u001b[0;32m      4\u001b[0m \u001b[1;33m\u001b[0m\u001b[0m\n\u001b[0;32m      5\u001b[0m \u001b[1;33m\u001b[0m\u001b[0m\n",
      "\u001b[1;31mModuleNotFoundError\u001b[0m: No module named 'pytz'"
     ]
    }
   ],
   "source": [
    "from chatterbot import ChatBot\n",
    "from chatterbot.trainers import ListTrainer\n",
    "bot = ChatBot(\n",
    "    'Example Bot2',\n",
    "    storage_adapter='chatterbot.storage.SQLStorageAdapter',\n",
    "    logic_adapters=[\n",
    "        {\n",
    "            'import_path': 'chatterbot.logic.BestMatch',\n",
    "            'default_response': 'I am sorry, but I do not understand.',\n",
    "            'maximum_similarity_threshold': 0.90\n",
    "        }\n",
    "    ]\n",
    ")\n",
    "\n",
    "trainer = ListTrainer(bot)"
   ]
  },
  {
   "cell_type": "code",
   "execution_count": null,
   "metadata": {},
   "outputs": [],
   "source": [
    "trainer.train([\n",
    "    'clearpass is extended to IT systems using which API?',\n",
    "    'REST based API'\n",
    "    'which browsers are supported for clearpass?',\n",
    "    'Mozilla Firefox,Google Chrome,Apple safari,Microsoft Internet Explorer'])\n",
    "trainer.train([\n",
    "    'which  virtualization platforms  is supported by clearpass?'\n",
    "    'VMware vSphere Hypervisor (ESXi), Microsoft Hyper V, and Amazon AWS (EC2).'\n",
    "    'name the authentication sources used by clearpass?'\n",
    "    'AD, LDAP, and SQL dB.'])\n",
    "trainer.train([\n",
    "    'which are the authentication protocols used for employee access ?'\n",
    "    'PEAP, EAP-FAST, EAP-TLS, EAP-TTLS, and EAP-PEAP-Public.'\n",
    "    'which standard the clearpass Guest is built on?'\n",
    "    'AAA framework which consisting on authentication,authorization, and accounting components.'])\n",
    "trainer.train([\n",
    "    'what are cookies?'\n",
    "    'Cookies are small text files that are placed on a user’s computer by Web sites the user visits.'\n",
    "    'what is NAS?'\n",
    "    'Network Access Server used to authenticate and  provide access to the network'\n",
    "])\n",
    "trainer.train([\n",
    "    'what are the possible states of a session?'\n",
    "    'Active,stale,closed'\n",
    "    'what are the built-in AAA services used in aruba?'\n",
    "    'RADIUS, TACACS+, and Kerberos'\n",
    "])\n",
    "trainer.train([\n",
    "    'what are mobile device posture checks used in aruba?'\n",
    "    'Network Access Control (NAC), Network Access Protection (NAP) posture and health checks, and Mobile Device Management(MDM)'])\n",
    "trainer.train([\n",
    "    'how is Device and User certificate enrollment done in aruba?'\n",
    "    'Simple Certificate Enrollment Protocol (SCEP), Enrollment over Secure Transport (EST) and REST API-based workflows'\n",
    "    'what are the APIs used in aruba?'\n",
    "    'HTTP/RESTful APIs'\n",
    "])\n",
    "\n",
    "trainer.train([\n",
    "    'what are Framework and Protocol used in aruba?'\n",
    "    'EAP-FAST,PEAP,EAP-TTLS,EAP-TLS'\n",
    "    'what are the type of the filters that are used?'\n",
    "    'user,host,IP'])\n",
    "\n",
    "trainer.train([\n",
    "    'what are the Column that are used in database?'\n",
    "    'Entity,Department,Risk Score,Change'\n",
    "    'what are the actions that are available in Entity360 Data?'\n",
    "    'Time Range Picker,Search Bar,Filter Options'\n",
    "])\n",
    "\n",
    "trainer.train([\n",
    "    'which color indicates Risk Score Colors?'\n",
    "    'Blue-Very Low Risk,brown - Low Risk,yellow-Medium Risk,Red-High Risk'\n",
    "    'is Windows Server 2008 Server Core appropriate for a SQL Server instance?'\n",
    "    'The Windows Server 2008 Core edition can:Run the file server role.Run the Hyper-V virtualization server role.Run the Directory Services role.Run the DHCP server role.'\n",
    "])\n",
    "    \n",
    "trainer.train([\n",
    "    'is there any list of the network devices supported by clearpass for 802.1x auth?'\n",
    "    ' Clearpass is vendor Neutral, any network device that has 802.1x feature, it should work with clearpass'\n",
    "     'is there any list of medical devices compatible with clearpass ?'\n",
    "    'if the device supports authentication, it would work with clearpass.'\n",
    "])\n",
    "\n"
   ]
  },
  {
   "cell_type": "code",
   "execution_count": null,
   "metadata": {},
   "outputs": [
    {
     "name": "stdout",
     "output_type": "stream",
     "text": [
      "Type something to begin...\n",
      "is there any list of medical devices compatible with clearpass ?\n",
      "I am sorry, but I do not understand.\n",
      "what are the built-in AAA services used in aruba?\n",
      "RADIUS, TACACS+, and Kerberos\n",
      "which color indicates Risk Score Colors?\n",
      "I am sorry, but I do not understand.\n",
      "is Windows Server 2008 Server Core appropriate for a SQL Server instance?\n",
      "I am sorry, but I do not understand.\n",
      "is there any list of the network devices supported by clearpass for 802.1x auth?\n",
      "I am sorry, but I do not understand.\n",
      "which standard the clearpass Guest is built on?\n",
      "I am sorry, but I do not understand.\n",
      "clearpass is extended to IT systems using which API?\n",
      "REST based API\n",
      "which browsers are supported for clearpass?\n",
      "Mozilla Firefox,Google Chrome,Apple safari,Microsoft Internet Explorer\n",
      "what are the possible states of a session?\n",
      "I am sorry, but I do not understand.\n",
      "which  virtualization platforms  is supported by clearpass?\n",
      "VMware vSphere Hypervisor (ESXi), Microsoft Hyper V, and Amazon AWS (EC2).\n",
      "name the authentication sources used by clearpass?\n",
      "I am sorry, but I do not understand.\n",
      "what are Framework and Protocol used in aruba?\n",
      "EAP-FAST,PEAP,EAP-TTLS,EAP-TLS\n",
      "how is Device and User certificate enrollment done in aruba?\n",
      "Simple Certificate Enrollment Protocol (SCEP), Enrollment over Secure Transport (EST) and REST API-based workflows\n"
     ]
    }
   ],
   "source": [
    "print('Type something to begin...')\n",
    "\n",
    "while True:\n",
    "    user_input = input()\n",
    "    bot_response = bot.get_response(user_input)\n",
    "    print(bot_response)"
   ]
  },
  {
   "cell_type": "code",
   "execution_count": null,
   "metadata": {},
   "outputs": [],
   "source": []
  }
 ],
 "metadata": {
  "kernelspec": {
   "display_name": "Python 3",
   "language": "python",
   "name": "python3"
  },
  "language_info": {
   "codemirror_mode": {
    "name": "ipython",
    "version": 3
   },
   "file_extension": ".py",
   "mimetype": "text/x-python",
   "name": "python",
   "nbconvert_exporter": "python",
   "pygments_lexer": "ipython3",
   "version": "3.6.8"
  }
 },
 "nbformat": 4,
 "nbformat_minor": 4
}
